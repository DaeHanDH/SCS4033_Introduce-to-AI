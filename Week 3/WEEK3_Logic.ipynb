{
 "cells": [
  {
   "attachments": {},
   "cell_type": "markdown",
   "metadata": {},
   "source": [
    "# **[IntoAI] WEEK3 : Logic**\n",
    "\n",
    "##### **복잡한 세계의 표현을 형성할 수 있고 추론 과정을 통해서 세계에 대한 새로운 표현들을 유도할 수 있으며 그러한 새 표현들을 이용해서 다음에 할 일을 연역할 수 있는 에이전트를 설게한다.**\n",
    "\n",
    "### **목차**\n",
    "1. 논리문 구성하기\n",
    "2. 지식 베이스 : PropKB & 웜퍼스 세계\n",
    "3. 지식 기반 에이전트와 추론\n",
    "4. 분해 증명\n",
    "5. 순방향과 역방향 연쇄\n"
   ]
  },
  {
   "attachments": {},
   "cell_type": "markdown",
   "metadata": {},
   "source": [
    "*인공지능 : 현대적 접근방식(제4판)* 도서를 기반으로 작성되었으며 https://github.com/aimacode/aima-python 을 참고하였습니다.\n",
    "* **Chapter7 | 논리적 에이전트** 의 내용을 포함하고 있습니다.\n",
    "* 코드와 이론에 대한 자세한 설명은 (블로그 링크)를 참고하세요.\n",
    "* **Google Colab**을 기반으로 작동하도록 제작되었습니다.\n",
    "* notebook을 실행하기 위해서는 **logic.py, utils.py, notebook.py** 모듈이 포함되어야 합니다.\n"
   ]
  },
  {
   "cell_type": "markdown",
   "metadata": {},
   "source": [
    "### **0. 기본 환경 세팅**"
   ]
  },
  {
   "cell_type": "code",
   "execution_count": null,
   "metadata": {},
   "outputs": [],
   "source": [
    "# 구글 드라이브 마운트\n",
    "from google.colab import drive\n",
    "drive.mount('/content/drive')\n",
    "\n",
    "# 모듈이 들어있는 디렉토리로 이동하기\n",
    "%cd drive/MyDrive/TA/인공지능 입문/SCS4033_Introduce-to-AI/Week 3"
   ]
  },
  {
   "cell_type": "code",
   "execution_count": null,
   "metadata": {},
   "outputs": [],
   "source": [
    "from utils import *\n",
    "from logic import *\n",
    "from notebook import psource"
   ]
  },
  {
   "attachments": {},
   "cell_type": "markdown",
   "metadata": {},
   "source": [
    "### **1. 논리문 구성하기**"
   ]
  },
  {
   "cell_type": "code",
   "execution_count": null,
   "metadata": {},
   "outputs": [],
   "source": [
    "Symbol('x')\n",
    "(x, y, P, Q, f) = symbols('x, y, P, Q, f')\n",
    "# P and not Q\n",
    "P & ~Q"
   ]
  },
  {
   "attachments": {},
   "cell_type": "markdown",
   "metadata": {},
   "source": [
    "`Expr` 클래스는 모든 종류의 수학적 표현을 나타내도록 설계되었습니다. 가장 단순한 유형의 `Expr`은 `Symbol` 함수로 정의할 수 있는 기호이며 여러개의 symbol을 한번에 정의할수도 있습니다. 또한 파이썬 infix및 접두사 연산자와 결합하여 사용할 수 있습니다.\n",
    "\n",
    "이는 `Expr` 클래스가 `&`연사자를 다음과 같은 정의로 오버로드 하기 때문에 작동합니다.\n",
    "```python\n",
    "def __and__(self, other): return Expr('&',  self, other)\n",
    "```\n",
    "\n",
    "그리고 다른 연산자들에게도 비슷한 오버로드를 수행합니다. `Expr`은 연산자의 경우 항상 문자열인 `op`와 인수의 경우 0개 이상의 식을 가진 튜플인 `args`라는 두 개의 필드를 갖습니다. `expression`은 `Expr`의 인스턴스 또는 숫자를 의미합니다."
   ]
  },
  {
   "cell_type": "code",
   "execution_count": null,
   "metadata": {},
   "outputs": [],
   "source": [
    "sentence = P & ~Q\n",
    "print(sentence.op)\n",
    "print(sentence.args)\n",
    "print(P.op)\n",
    "print(P.args)\n",
    "\n",
    "Pxy = P(x, y)\n",
    "print(Pxy.op)\n",
    "print(Pxy.args)\n",
    "\n",
    "# 중첩 Expr\n",
    "print(3 * f(x, y) + P(y) / 2 + 1)"
   ]
  },
  {
   "attachments": {},
   "cell_type": "markdown",
   "metadata": {},
   "source": [
    "`Expr` 클래스는 Propositional Logic sentences의 *논리(logic)*를 정의하는 것이 아니라 expression을 *표현(represent)*하는 방법을 제공한다는 점에 유의해야 합니다. `Expr`을 추상 구문 트리로 생각합니다. `Expr`의 각 인수는 기호, 숫자 또는 내포된 `Expr`일 수 있습니다."
   ]
  },
  {
   "attachments": {},
   "cell_type": "markdown",
   "metadata": {},
   "source": [
    "다음은 문장을 구성하는 데 사용할 수 있는 연산자 표입니다.\n",
    "\n",
    "| Operation                | Book | Python Infix Input | Python Output | Python `Expr` Input\n",
    "|--------------------------|----------------------|-------------------------|---|---|\n",
    "| Negation                 | &not; P      | `~P`                       | `~P` | `Expr('~', P)`\n",
    "| And                      | P &and; Q       | `P & Q`                     | `P & Q` | `Expr('&', P, Q)`\n",
    "| Or                       | P &or; Q | `P`<tt> &#124; </tt>`Q`| `P`<tt> &#124; </tt>`Q` | `Expr('`&#124;`', P, Q)`\n",
    "| Inequality (Xor)         | P &ne; Q     | `P ^ Q`                | `P ^ Q`  | `Expr('^', P, Q)`\n",
    "| Implication                  | P &rarr; Q    | `P` <tt>&#124;</tt>`'==>'`<tt>&#124;</tt> `Q`   | `P ==> Q` | `Expr('==>', P, Q)`\n",
    "| Reverse Implication      | Q &larr; P     | `Q` <tt>&#124;</tt>`'<=='`<tt>&#124;</tt> `P`  |`Q <== P` | `Expr('<==', Q, P)`\n",
    "| Equivalence            | P &harr; Q   | `P` <tt>&#124;</tt>`'<=>'`<tt>&#124;</tt> `Q`   |`P <=> Q` | `Expr('<=>', P, Q)`"
   ]
  },
  {
   "cell_type": "code",
   "execution_count": null,
   "metadata": {},
   "outputs": [],
   "source": [
    "print(~(P & Q)  |'==>'|  (~P | ~Q))\n",
    "print(expr('~(P & Q)  ==>  (~P | ~Q)'))     #|'==>'| 안써도 됨\n",
    "print(expr('sqrt(b ** 2 - 4 * a * c)'))     #pre-define 필요 없음"
   ]
  },
  {
   "attachments": {},
   "cell_type": "markdown",
   "metadata": {},
   "source": [
    "### 2. 지식 베이스: PropKB & 웜퍼스 세계"
   ]
  },
  {
   "attachments": {},
   "cell_type": "markdown",
   "metadata": {},
   "source": [
    "#### 2-1 명제 지식베이스 : PropKB"
   ]
  },
  {
   "attachments": {},
   "cell_type": "markdown",
   "metadata": {},
   "source": [
    "`PropKB` 클래스는 명제 논리 문장의 지식 베이스를 나타내는 데 사용할 수 있습니다.\n",
    "\n",
    "`KB` 클래스에는 `__init__` 메서드 외에 네 가지 메서드가 있습니다. 여기서 주목할 점은 `ask` 메서드가 단순히 ask_generator 메서드를 호출하기 때문에 직접 지식 베이스 클래스를 만들 때 실제로 구현해야 할 것은 `ask` 함수 자체가 아니라 `ask_generator` 함수일 것입니다."
   ]
  },
  {
   "attachments": {},
   "cell_type": "markdown",
   "metadata": {},
   "source": [
    "`init(self, sentence=None)`: 생성자 `__init__`은 하나의 필드 `clauses`를 생성합니다. 이 필드는 지식 베이스의 모든 문장을 나타내는 리스트입니다. 이 중 각각의 문장은 '절(clause)'이 됩니다. 즉, 리터럴(literal)과 논리합(or)만으로 이루어진 문장입니다.\n",
    "\n",
    "`tell(self, sentence)`: 지식 베이스에 문장을 추가하려면 `tell` 메서드를 사용합니다. 이 메서드는 문장을 가져와 CNF로 변환하고 모든 절을 추출하여 `clauses` 필드에 추가합니다. 따라서 지식 베이스에 절만 추가해야한다는 걱정은 하지 않아도 됩니다. 원하는 형태의 문장을 지식 베이스에 알리고, `tell` 메서드가 CNF로 변환하고 그 결과의 절을 추가하는 일을 처리합니다.\n",
    "\n",
    "`ask_generator(self, query)`: ask 함수에서 사용되는 `ask_generator` 함수입니다. 이 함수는 `tt_entails` 함수를 호출합니다. 이 함수는 지식 베이스가 `query`를 함의하는 경우 `True`를 반환하고, 그렇지 않은 경우 `False`를 반환합니다. `ask_generator` 함수 자체는 지식 베이스가 `query`를 함의하는 경우 빈 `dict {}`를 반환하고, 그렇지 않은 경우 `None`을 반환합니다. 이렇게 하는 이유는 일차 논리(First-Order Logic)에서 ask_generator 함수가 query를 참으로 만드는 모든 대체 값을 반환해야하기 때문입니다. 따라서 모든 대체 값을 반환하기 위해 dict를 사용하는 것입니다. 대부분 ask 함수를 사용할 것이며, 이 함수는 {} 또는 False를 반환합니다. 그러나 이게 마음에 들지 않으면 True나 False를 반환하는 ask_if_true 함수를 사용할 수 있습니다.\n",
    "\n",
    "`retract(self, sentence)`: 이 함수는 지식 베이스에서 주어진 문장의 모든 절을 제거합니다. tell 함수와 마찬가지로 지식 베이스에서 제거할 절을 전달할 필요는 없습니다. 어떤 문장이든지 괜찮습니다. 이 함수가 해당 문장을 절로 변환하고 그것을 제거하는 일을 처리합니다."
   ]
  },
  {
   "attachments": {},
   "cell_type": "markdown",
   "metadata": {},
   "source": [
    "*CNF란 Conjunctive Normal Form의 약자로, 일반적인 논리식을 일정한 형태로 변환한 것입니다.*\n",
    "\n",
    "*논리식을 CNF로 변환하면, 논리식을 AND 연산자로 연결된 일련의 절(clause)의 형태로 나타낼 수 있습니다. 이 때, 각 절은 OR 연산자로 연결된 리터럴(literal)의 집합으로 이루어져 있습니다. 즉, CNF는 AND 연산자와 OR 연산자만을 사용하는 논리식으로, 각각의 절은 OR 연산자로 결합되고, 각각의 절 내부의 리터럴들은 AND 연산자로 결합되는 형태를 가지게 됩니다.*"
   ]
  },
  {
   "attachments": {},
   "cell_type": "markdown",
   "metadata": {},
   "source": [
    "#### 2-2 웜퍼스 세계 지식 베이스"
   ]
  },
  {
   "cell_type": "code",
   "execution_count": null,
   "metadata": {},
   "outputs": [],
   "source": [
    "wumpus_kb = PropKB()\n",
    "P11, P12, P21, P22, P31, B11, B21 = expr('P11, P12, P21, P22, P31, B11, B21')\n",
    "wumpus_kb.tell(~P11)\n",
    "wumpus_kb.tell(B11 | '<=>' | ((P12 | P21)))\n",
    "wumpus_kb.tell(B21 | '<=>' | ((P11 | P22 | P31)))\n",
    "wumpus_kb.tell(~B11)\n",
    "wumpus_kb.tell(B21)\n",
    "wumpus_kb.clauses"
   ]
  },
  {
   "attachments": {},
   "cell_type": "markdown",
   "metadata": {},
   "source": [
    "### 3. 지식 기반 에이전트와 추론"
   ]
  },
  {
   "attachments": {},
   "cell_type": "markdown",
   "metadata": {},
   "source": [
    "#### 3-1 지식 기반 에이전트"
   ]
  },
  {
   "attachments": {},
   "cell_type": "markdown",
   "metadata": {},
   "source": [
    "지식 기반 에이전트(Knowledge-based agent)는 지식 베이스를 유지하고 처리하는 간단한 일반 에이전트입니다. 지식 베이스에는 초기에 일부 백그라운드 지식이 포함될 수 있습니다.\n",
    "\n",
    "KB 에이전트의 목적은 지식 베이스 조작에 대한 추상화 수준을 제공하며, 지식 베이스에서 작동하는 에이전트의 기본 클래스로 사용됩니다.\n",
    "\n",
    "인지(percept)가 주어지면, KB 에이전트는 인지를 지식 베이스에 추가하고, 최상의 작업에 대해 지식 베이스에 요청한 후, 해당 작업을 수행했다고 지식 베이스에 알리게 됩니다.\n",
    "\n",
    "우리가 구현한 `KB-Agent`의 구현은 KB 클래스를 상속하는 `KB_AgentProgram` 클래스에 캡슐화되어 있습니다."
   ]
  },
  {
   "cell_type": "code",
   "execution_count": null,
   "metadata": {},
   "outputs": [],
   "source": [
    "psource(KB_AgentProgram)"
   ]
  },
  {
   "attachments": {},
   "cell_type": "markdown",
   "metadata": {},
   "source": [
    "#### 3-2 명제 지식 베이스에서의 추론\n",
    "이번 섹션에서는 문장이 KB에 의해 entail되는지 확인하는 두 가지 알고리즘을 살펴보겠습니다. 우리의 목표는 어떤 문장 $\\alpha$에 대해 $\\text{KB} \\vDash \\alpha$가 성립하는지 여부를 결정하는 것입니다.\n",
    "\n",
    "##### 진리표\n",
    "모델 체크 접근 방식으로, 이름에서 알 수 있듯이 KB가 참인 모든 가능한 모델을 나열하고 이러한 모델에서 $\\alpha$도 참인지 확인합니다. 우리는 KB에서 $n$개의 기호를 나열하고, $2^{n}$개의 모델을 깊이 우선 방식으로 나열하고 KB와 $\\alpha$의 진리 여부를 확인합니다."
   ]
  },
  {
   "cell_type": "code",
   "execution_count": null,
   "metadata": {},
   "outputs": [],
   "source": [
    "psource(tt_check_all)"
   ]
  },
  {
   "attachments": {},
   "cell_type": "markdown",
   "metadata": {},
   "source": [
    "이 알고리즘은 기본적으로 진리표의 모든 행에 대해 $KB\\implies\\alpha$의 참값을 계산하고 모든 경우에 참인지 확인합니다.\n",
    "\n",
    "심볼이 정의된 경우, 이 루틴은 심볼의 모든 진리값 조합을 재귀적으로 구성하고, 그런 다음 해당 모델이 KB와 일치하는지 확인합니다. 주어진 모델은 진리표의 각 행에 해당하며, 이러한 행에 대해 KB 열에 'true'가 있으며 이 열에 대해 쿼리가 참인지 확인합니다.\n",
    "\n",
    "즉, tt_check_all은 각 모델에 대해 이 논리식을 계산합니다.\n",
    "\n",
    "`pl_true(kb, model) => pl_true(alpha, model)`\n",
    "\n",
    "이는 논리적으로 동등한 다음 논리식과 같습니다.\n",
    "\n",
    "`pl_true(kb, model) & ~pl_true(alpha, model)`\n",
    "\n",
    "즉, 지식 베이스와 쿼리의 부정이 논리적으로 일관되지 않습니다.\n",
    "\n",
    "`tt_entails()` 함수는 쿼리에서 심볼을 추출하고 적절한 매개변수로 `tt_check_all()` 함수를 호출합니다."
   ]
  },
  {
   "cell_type": "code",
   "execution_count": null,
   "metadata": {},
   "outputs": [],
   "source": [
    "psource(tt_entails)"
   ]
  },
  {
   "cell_type": "code",
   "execution_count": null,
   "metadata": {},
   "outputs": [],
   "source": [
    "tt_entails(P & Q, Q)\n",
    "tt_entails(P | Q, Q)\n",
    "tt_entails(P | Q, P)\n",
    "(A, B, C, D, E, F, G) = symbols('A, B, C, D, E, F, G')\n",
    "tt_entails(A & (B | C) & D & E & ~(F | G), A & D & E & ~F & ~G)"
   ]
  },
  {
   "cell_type": "code",
   "execution_count": null,
   "metadata": {},
   "outputs": [],
   "source": [
    "wumpus_kb.ask_if_true(~P11), wumpus_kb.ask_if_true(P11)\n",
    "wumpus_kb.ask_if_true(~P22), wumpus_kb.ask_if_true(P22)"
   ]
  },
  {
   "attachments": {},
   "cell_type": "markdown",
   "metadata": {},
   "source": [
    "### 4. 분해증명"
   ]
  },
  {
   "attachments": {},
   "cell_type": "markdown",
   "metadata": {},
   "source": [
    "그러나, resolution을 통한 증명을 구현하는 알고리즘은 복잡한 문장을 처리할 수 없습니다.\n",
    "따라서, 함의 연산과 이중 함의 연산은 더 단순한 절(clauses)으로 단순화되어야 합니다.\n",
    "우리는 이미 모든 명제 논리 문장이 절의 연결(disjunction)로 표현 가능함을 알고 있습니다.\n",
    "이 사실을 우리의 이점으로 활용하기 위해, 입력 문장을 연접 정규형(CNF, Conjunctive Normal Form)으로 단순화할 것입니다. 이는, 문자의 연결로 이루어진 교집합입니다.\n",
    "예를 들어,\n",
    "$$(A\\lor B)\\land (\\neg B\\lor C\\lor\\neg D)\\land (D\\lor\\neg E)$$\n",
    "이는 디지털 전자에서의 합의 곱(Product of sums) 형태와 동일합니다.\n",
    "<br>\n",
    "이러한 변환의 개요는 다음과 같습니다.\n",
    "\n",
    "1. 이중 함의 연산을 함의 연산으로 변환합니다.\n",
    "<br>\n",
    "$\\alpha\\iff\\beta$는 $(\\alpha\\implies\\beta)\\land(\\beta\\implies\\alpha)$로 작성할 수 있습니다.\n",
    "<br>\n",
    "이것은 복합 문장에도 적용됩니다.\n",
    "<br>\n",
    "$\\alpha\\iff(\\beta\\lor\\gamma)$는 $(\\alpha\\implies(\\beta\\lor\\gamma))\\land((\\beta\\lor\\gamma)\\implies\\alpha)$로 작성할 수 있습니다.\n",
    "<br>\n",
    "\n",
    "2. 함의 연산을 논리적으로 등가한 식으로 변환합니다.\n",
    "<br>\n",
    "$\\alpha\\implies\\beta$는 $\\neg\\alpha\\lor\\beta$로 작성할 수 있습니다.\n",
    "<br>\n",
    "\n",
    "3. 부정을 내부로 이동합니다.\n",
    "<br>\n",
    "CNF는 원자적인 리터럴만 허용합니다. 그래서 부정은 복합문장에 나타낼 수 없습니다.\n",
    "De Morgan의 법칙이 여기서 도움이 됩니다.\n",
    "<br>\n",
    "$\\neg(\\alpha\\land\\beta)\\equiv(\\neg\\alpha\\lor\\neg\\beta)$\n",
    "<br>\n",
    "$\\neg(\\alpha\\lor\\beta)\\equiv(\\neg\\alpha\\land\\neg\\beta)$\n",
    "<br>\n",
    "\n",
    "4. 분배 법칙을 사용하여 합집합과 교집합을 분배합니다.\n",
    "<br>\n",
    "합집합과 교집합은 서로 분배될 수 있습니다.\n",
    "이제 우리는 절의 연결, 합집합 및 부정만 가진 문장을 가지고 있습니다.\n",
    "따라서 가능한 한 합집합을 분배하여 더 단순한 절의 연결로 이루어진 문장을 얻습니다.\n",
    "<br>\n",
    "우리는 다음과 같은 형태를 필요로 합니다.\n",
    "<br>\n",
    "$(\\alpha_{1}\\lor\\alpha_{2}\\lor\\alpha_{3}...)\\land(\\beta_{1}\\lor\\beta_{2}\\lor\\beta_{3}...)\\land(\\gamma_{1}\\lor\\gamma_{2}\\lor\\gamma_{3}...)\\land...$\n",
    "\n",
    "`to_cnf` 함수는 도우미 하위 함수를 사용하여 이 변환을 실행합니다."
   ]
  },
  {
   "cell_type": "code",
   "execution_count": null,
   "metadata": {},
   "outputs": [],
   "source": [
    "psource(to_cnf)"
   ]
  },
  {
   "attachments": {},
   "cell_type": "markdown",
   "metadata": {},
   "source": [
    "to_cnf 함수는 세 개의 하위 루틴을 호출합니다.\n",
    "<br>\n",
    "eliminate_implications는 바이-임플리케이션과 임플리케이션을 논리적 등가물로 변환합니다.\n",
    "<br>\n",
    "move_not_inwards는 합성 명제에서 부정을 제거하고 De Morgan의 법칙을 사용하여 내부로 이동합니다.\n",
    "<br>\n",
    "distribute_and_over_or는 합연산자를 교환법칙을 이용하여 분배합니다."
   ]
  },
  {
   "cell_type": "code",
   "execution_count": null,
   "metadata": {},
   "outputs": [],
   "source": [
    "psource(eliminate_implications)\n",
    "psource(move_not_inwards)\n",
    "psource(distribute_and_over_or)"
   ]
  },
  {
   "cell_type": "code",
   "execution_count": null,
   "metadata": {},
   "outputs": [],
   "source": [
    "A, B, C, D = expr('A, B, C, D')\n",
    "to_cnf(A |'<=>'| B)\n",
    "\n",
    "to_cnf(A |'<=>'| (B & C))\n",
    "\n",
    "to_cnf(A & (B | (C & D)))\n",
    "\n",
    "to_cnf((A |'<=>'| ~B) |'==>'| (C | ~D))"
   ]
  },
  {
   "cell_type": "code",
   "execution_count": null,
   "metadata": {},
   "outputs": [],
   "source": [
    "psource(pl_resolution)\n",
    "pl_resolution(wumpus_kb, ~P11), pl_resolution(wumpus_kb, P11)\n",
    "pl_resolution(wumpus_kb, ~P22), pl_resolution(wumpus_kb, P22)"
   ]
  },
  {
   "attachments": {},
   "cell_type": "markdown",
   "metadata": {},
   "source": [
    "### 5. 순방향과 역방향 연쇄"
   ]
  },
  {
   "attachments": {},
   "cell_type": "markdown",
   "metadata": {},
   "source": [
    "이전에 우리는 KB에 의해 entail되는 문장을 확인하기 위해 두 가지 알고리즘을 살펴볼 것이라고 말했습니다. 여기에 세 번째 알고리즘이 있습니다.\n",
    "다른 점은 지식 베이스에서 확실한 절만 포함하고 있는 경우에 한해서, 단일 명제 기호 q가 entail되는지를 결정하는 것입니다.\n",
    "그러나 뭔가 주의해야 할 점이 있습니다. 지식 베이스는 반드시 **Horn 절(clause)**만 포함해야 합니다.\n",
    "<br>\n",
    "\n",
    "Horn 절(clause)\n",
    "Horn 절은 최대한 하나의 양의 리터럴로 구성된 리터럴의 합집합으로 정의할 수 있습니다.\n",
    "<br>\n",
    "정확히 하나의 양의 리터럴을 가지는 Horn 절을 *확실한 절(definite clause)*이라고 합니다.\n",
    "<br>\n",
    "Horn 절은 다음과 같이 생겼을 수 있습니다.\n",
    "<br>\n",
    "$\\neg a\\lor\\neg b\\lor\\neg c\\lor\\neg d... \\lor z$\n",
    "<br>\n",
    "그러나 이 예시 또한 확실한 절입니다.\n",
    "<br>\n",
    "De Morgan의 법칙을 이용하면, 위의 예시를 다음과 같이 단순화할 수 있습니다.\n",
    "<br>\n",
    "$a\\land b\\land c\\land d ... \\implies z$\n",
    "<br>\n",
    "이것은 인간이 알고 있는 데이터와 사실을 처리하는 논리적인 표현처럼 보입니다.\n",
    "감지된(percepts) a, b, c, d ... 가 동시에 참이라고 가정하면, 그 시점에서 z도 참일 것이라는 것을 추론할 수 있습니다.\n",
    "알고리즘적으로 추론 또는 *해결(resolution)*을 더 쉽게 만드는 Horn 절의 몇 가지 흥미로운 측면이 있습니다.\n",
    "- 확실한 절은 함축(implication)로 작성될 수 있습니다:\n",
    "<br>\n",
    "확실한 절에서 가장 중요한 단순화는 함축으로 작성될 수 있다는 것입니다.\n",
    "전제(또는 함축에 이르는 지식)는 양의 리터럴의 연결(conjunction)입니다.\n",
    "결론(시사하는 문장) 또한 양의 리터럴입니다.\n",
    "문장은 이제 이해하기 쉬워졌습니다.\n",
    "전제와 결론은 관례적으로 body와 head라고 불립니다.\n",
    "하나의 양의 리터럴은 fact이라고 합니다.\n",
    "- Horn 절에서 전방 추론 및 후방 추론을 추론에 사용할 수 있습니다\n",
    "<br>\n",
    "전진 연쇄는 검색 알고리즘 장에서 소개한 `AND-OR-Graph-Search`와 의미론적으로 동일합니다. 구현 세부 정보는 곧 설명하겠습니다.\n",
    "- Horn 절을 사용하여 간단하게 entailment 결정 가능:\n",
    "<br>\n",
    "놀랍게도, 전진 및 후진 연쇄 알고리즘은 지식 베이스의 각 요소를 최대 한 번만 탐색하므로 문제를 크게 단순화합니다.\n",
    "<br>\n",
    "<br>\n",
    "함수 `pl_fc_entails`은 전진 연쇄를 구현하여 지식 베이스 `KB`가 심볼 `q`를 entail하는지 확인합니다.\n",
    "<br>\n",
    "그러나, `pl_fc_entails`은 보통의 `KB` 인스턴스를 사용하지 않습니다. \n",
    "여기서 지식 베이스는 `PropKB` 클래스에서 파생된 `PropDefiniteKB` 클래스의 인스턴스이지만, 수정하여 결정적인 절을 저장하도록 변경되었습니다.\n",
    "<br>\n",
    "주요 차이점은 주어진 심볼 `p`를 premise에 가진 KB 절의 목록을 반환하는 `PropDefiniteKB`에 대한 도우미 메소드의 포함입니다."
   ]
  },
  {
   "cell_type": "code",
   "execution_count": null,
   "metadata": {},
   "outputs": [],
   "source": [
    "psource(PropDefiniteKB.clauses_with_premise)\n",
    "psource(pl_fc_entails)\n"
   ]
  },
  {
   "attachments": {},
   "cell_type": "markdown",
   "metadata": {},
   "source": [
    "이 함수는 입력으로 PropDefiniteKB의 인스턴스인 지식 베이스 KB와 질의 q를 받습니다.\n",
    "\n",
    "count는 초기에 각 문장의 전제에 있는 기호의 수를 저장합니다.\n",
    "\n",
    "conjuncts 도우미 함수는 주어진 문장을 연결된 표현식으로 분리합니다.\n",
    "\n",
    "inferred는 boolean defaultdict로 초기화됩니다. 이후 각 단계에서, 이는 모든 문장의 전제가 유추되었는지 확인하는 데 사용됩니다.\n",
    "\n",
    "agenda는 초기에 지식 베이스에서 참으로 알려진 문장의 목록을 저장합니다.\n",
    "\n",
    "is_prop_symbol 도우미 함수는 주어진 기호가 유효한 명제 논리 기호인지 확인합니다.\n",
    "\n",
    "이제 agenda를 반복하면서 각 반복에서 기호 p를 추출합니다. 질의 q가 p와 동일한 경우, 우리는 직관적으로 entailment가 성립한다는 것을 알 수 있습니다.\n",
    "\n",
    "문장의 전제가 p인 경우, agenda가 처리되며, count가 1씩 감소합니다. count가 0이 되면 결론이 agenda에 추가됩니다. 이것은 해당 유추의 모든 전제가 참임을 의미합니다.\n",
    "\n",
    "clauses_with_premise는 PropKB 클래스의 유용한 메소드입니다. 이는 전제에 p가 있는 지식 베이스의 문장 목록을 반환합니다."
   ]
  },
  {
   "cell_type": "code",
   "execution_count": null,
   "metadata": {},
   "outputs": [],
   "source": [
    "clauses = ['(B & F)==>E', \n",
    "           '(A & E & F)==>G', \n",
    "           '(B & C)==>F', \n",
    "           '(A & B)==>D', \n",
    "           '(E & F)==>H', \n",
    "           '(H & I)==>J',\n",
    "           'A', \n",
    "           'B', \n",
    "           'C']\n",
    "\n",
    "definite_clauses_KB = PropDefiniteKB()\n",
    "for clause in clauses:\n",
    "    definite_clauses_KB.tell(expr(clause))\n",
    "    \n",
    "pl_fc_entails(definite_clauses_KB, expr('G'))\n",
    "pl_fc_entails(definite_clauses_KB, expr('H'))\n",
    "pl_fc_entails(definite_clauses_KB, expr('I'))\n",
    "pl_fc_entails(definite_clauses_KB, expr('J'))"
   ]
  }
 ],
 "metadata": {
  "kernelspec": {
   "display_name": "Python 3",
   "language": "python",
   "name": "python3"
  },
  "language_info": {
   "codemirror_mode": {
    "name": "ipython",
    "version": 3
   },
   "file_extension": ".py",
   "mimetype": "text/x-python",
   "name": "python",
   "nbconvert_exporter": "python",
   "pygments_lexer": "ipython3",
   "version": "3.10.4"
  },
  "orig_nbformat": 4
 },
 "nbformat": 4,
 "nbformat_minor": 2
}
